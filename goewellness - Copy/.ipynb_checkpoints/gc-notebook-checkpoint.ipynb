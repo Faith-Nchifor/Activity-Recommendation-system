{
 "cells": [
  {
   "cell_type": "code",
   "execution_count": null,
   "id": "03e045ae-16f7-4b7e-8d5a-c51972d6ab74",
   "metadata": {},
   "outputs": [],
   "source": [
    "import pandas as pd\n",
    "import numpy as np\n",
    "import ast\n",
    "from nltk.corpus import stopwords\n",
    "from nltk.stem import WordNetLemmatizer\n",
    "from nltk.tokenize import word_tokenize\n",
    "import nltk\n",
    "#import "
   ]
  },
  {
   "cell_type": "code",
   "execution_count": null,
   "id": "57af234a-a6a7-48c6-8e6b-55f13c8ca5ad",
   "metadata": {},
   "outputs": [],
   "source": [
    "nltk.download('averaged_perceptron_tagger')"
   ]
  },
  {
   "cell_type": "code",
   "execution_count": null,
   "id": "756a8fbb-c14f-4bb6-845d-f836ce1801d0",
   "metadata": {},
   "outputs": [],
   "source": [
    "df=pd.read_csv('../../downloads/Clean_data_GK.csv')"
   ]
  },
  {
   "cell_type": "code",
   "execution_count": null,
   "id": "56099b73-9dbe-4b8b-8da5-99e750227297",
   "metadata": {},
   "outputs": [],
   "source": [
    "df.head(2)"
   ]
  },
  {
   "cell_type": "code",
   "execution_count": null,
   "id": "43c0f6b1-5f36-4530-9734-c436e22fea48",
   "metadata": {},
   "outputs": [],
   "source": [
    "df.shape"
   ]
  },
  {
   "cell_type": "code",
   "execution_count": null,
   "id": "c51d733f-c2ca-492a-a030-54f7c1c985b7",
   "metadata": {},
   "outputs": [],
   "source": [
    "df.dtypes"
   ]
  },
  {
   "cell_type": "code",
   "execution_count": 19,
   "id": "3036075f-1952-4c37-98c0-5cf5d5c44d1a",
   "metadata": {},
   "outputs": [
    {
     "name": "stdout",
     "output_type": "stream",
     "text": [
      "['HIIT' 'Strenght' 'Cardio']\n",
      "['Exercise']\n",
      "['NutriFit HIIT Blast' 'Quick Strength Boost' 'Quick Cardio Blast'\n",
      " 'Quick Strength Booster' 'Strength Boost' 'High-Intensity Cardio Blast'\n",
      " 'Strength Boosting Nutrition Workout' 'Heart-Pumping Cardio Blast']\n",
      "['No equipment (home or office)' 'Some equipment (dumbells)'\n",
      " 'Gym equipment' 'Calisthenics Park equipment']\n",
      "['Beginner' 'Medium' 'Advanced']\n"
     ]
    }
   ],
   "source": [
    "print(df.WorkoutType.unique())\n",
    "print(df.ContentType.unique())\n",
    "print(df.Name.unique())\n",
    "print(df.Equipment.unique())\n",
    "print(df.Difficulty.unique())"
   ]
  },
  {
   "cell_type": "code",
   "execution_count": null,
   "id": "491354cb-7704-4dab-adac-dae683f143a5",
   "metadata": {},
   "outputs": [],
   "source": []
  },
  {
   "cell_type": "code",
   "execution_count": 49,
   "id": "35cdaef8-6256-4a6b-abdc-c5e6fbf15c6e",
   "metadata": {},
   "outputs": [
    {
     "data": {
      "text/plain": [
       "'a quick and challenging hiit workout designed to boost your metabolism and improve your overall fitness. this workout requires minimal equipment and can be done in just 5 minutes.'"
      ]
     },
     "execution_count": 49,
     "metadata": {},
     "output_type": "execute_result"
    }
   ],
   "source": [
    "df.iloc[0].Description"
   ]
  },
  {
   "cell_type": "code",
   "execution_count": 4,
   "id": "bbc39616-f4a2-484a-a77b-58973bf5153d",
   "metadata": {},
   "outputs": [
    {
     "data": {
      "text/plain": [
       "\"[{'EXERCISE': 'Jumping Jacks', 'DURATION_SEC': 30, 'EQUIPMENT': 'None'}, {'EXERCISE': 'Push-ups', 'DURATION_SEC': 30, 'EQUIPMENT': 'None'}, {'EXERCISE': 'High Knees', 'DURATION_SEC': 30, 'EQUIPMENT': 'None'}, {'EXERCISE': 'Mountain Climbers', 'DURATION_SEC': 30, 'EQUIPMENT': 'None'}, {'EXERCISE': 'Plank Jacks', 'DURATION_SEC': 30, 'EQUIPMENT': 'None'}, {'EXERCISE': 'Burpees', 'DURATION_SEC': 30, 'EQUIPMENT': 'None'}, {'EXERCISE': 'Squat Jumps', 'DURATION_SEC': 30, 'EQUIPMENT': 'None'}, {'EXERCISE': 'Tricep Dips', 'DURATION_SEC': 30, 'EQUIPMENT': 'Chair or bench'}]\""
      ]
     },
     "execution_count": 4,
     "metadata": {},
     "output_type": "execute_result"
    }
   ],
   "source": [
    "df.iloc[0].Routine"
   ]
  },
  {
   "cell_type": "code",
   "execution_count": 5,
   "id": "b2b404a7-4425-409d-ba25-e214941e602e",
   "metadata": {},
   "outputs": [
    {
     "data": {
      "text/plain": [
       "[{'EXERCISE': 'Jumping Jacks', 'DURATION_SEC': 30, 'EQUIPMENT': 'None'},\n",
       " {'EXERCISE': 'Push-ups', 'DURATION_SEC': 30, 'EQUIPMENT': 'None'},\n",
       " {'EXERCISE': 'High Knees', 'DURATION_SEC': 30, 'EQUIPMENT': 'None'},\n",
       " {'EXERCISE': 'Mountain Climbers', 'DURATION_SEC': 30, 'EQUIPMENT': 'None'},\n",
       " {'EXERCISE': 'Plank Jacks', 'DURATION_SEC': 30, 'EQUIPMENT': 'None'},\n",
       " {'EXERCISE': 'Burpees', 'DURATION_SEC': 30, 'EQUIPMENT': 'None'},\n",
       " {'EXERCISE': 'Squat Jumps', 'DURATION_SEC': 30, 'EQUIPMENT': 'None'},\n",
       " {'EXERCISE': 'Tricep Dips',\n",
       "  'DURATION_SEC': 30,\n",
       "  'EQUIPMENT': 'Chair or bench'}]"
      ]
     },
     "execution_count": 5,
     "metadata": {},
     "output_type": "execute_result"
    }
   ],
   "source": [
    "ast.literal_eval(df.iloc[0].Routine)"
   ]
  },
  {
   "cell_type": "code",
   "execution_count": 3,
   "id": "ce366ad5-0c60-49a0-9215-3145920df5eb",
   "metadata": {},
   "outputs": [],
   "source": [
    "def getitem(text):\n",
    "    routine=ast.literal_eval(text)\n",
    "    exercises=[ex['EXERCISE'] for ex in routine if 'EXERCISE' in ex]\n",
    "    return exercises"
   ]
  },
  {
   "cell_type": "code",
   "execution_count": null,
   "id": "41b609ba-e5a6-4464-88e8-094134dec324",
   "metadata": {},
   "outputs": [],
   "source": [
    "exercises=getitem(df.iloc[0].Routine)\n",
    "exercises"
   ]
  },
  {
   "cell_type": "markdown",
   "id": "aef1029c-d202-429f-942c-9cff00e1e787",
   "metadata": {},
   "source": [
    "### I will first use cosine similiarity on description for recommendation\n",
    "### Then I will use lda on both routine and description"
   ]
  },
  {
   "cell_type": "code",
   "execution_count": 4,
   "id": "69f1a432-6d7e-428c-b98c-b094d870a962",
   "metadata": {},
   "outputs": [],
   "source": [
    "df['Description']=df['Description'].apply(lambda x: x.lower())"
   ]
  },
  {
   "cell_type": "code",
   "execution_count": 31,
   "id": "0df38cdf-da0f-4a54-8f93-de36a1898f4f",
   "metadata": {},
   "outputs": [
    {
     "data": {
      "text/plain": [
       "['steam', ',', 'steal', 'stole', 'stolen', 'steals', ',', 'stealing', 'theif']"
      ]
     },
     "execution_count": 31,
     "metadata": {},
     "output_type": "execute_result"
    }
   ],
   "source": [
    "token=word_tokenize('steam, steal stole stolen steals, stealing from theif')\n",
    "sw=stopwords.words('english')\n",
    "filtered_list=[t for t in token if t not in sw]\n",
    "filtered_list\n",
    "#word_tokenize('Jesus is lord over lord Over all')\n",
    "#nltk.help.upenn_tagset() to see meanings for pos_tag"
   ]
  },
  {
   "cell_type": "code",
   "execution_count": 39,
   "id": "0d978727-7448-4d33-ab52-6c35ca484ff6",
   "metadata": {},
   "outputs": [],
   "source": [
    "#lemmatize words\n",
    "lem=WordNetLemmatizer()\n",
    "lem_words=[lem.lemmatize(w,pos='n') for w in filtered_list]\n",
    "lem_words\n",
    "\n",
    "#pos tagging\n",
    "pos_tags=nltk.pos_tag(lem_words)\n",
    "tree = nltk.ne_chunk(pos_tags)"
   ]
  },
  {
   "cell_type": "code",
   "execution_count": 69,
   "id": "f145ab31-cbe5-4dd0-aa98-9718bd420803",
   "metadata": {},
   "outputs": [],
   "source": [
    "#tree.draw()"
   ]
  },
  {
   "cell_type": "code",
   "execution_count": 5,
   "id": "a0d795ae-4865-4234-8367-59d80d3cdd48",
   "metadata": {},
   "outputs": [],
   "source": [
    "def transform_text(text):\n",
    "    \n",
    "    sw=stopwords.words('english')\n",
    "    lem= WordNetLemmatizer()\n",
    "    #tokenize\n",
    "    desc_tok=word_tokenize(text)\n",
    "    # remove stop words\n",
    "    filtered_desc=[t for t in desc_tok if t not in sw]\n",
    "    \n",
    "    #lemmatize\n",
    "    lem_words=[lem.lemmatize(w) for w in filtered_desc]\n",
    "    return ' '.join(lem_words)\n"
   ]
  },
  {
   "cell_type": "code",
   "execution_count": 6,
   "id": "62581723-105d-4eea-b6c6-e376667b9334",
   "metadata": {},
   "outputs": [
    {
     "data": {
      "text/plain": [
       "0    quick challenging hiit workout designed boost ...\n",
       "1    short intense strength workout designed target...\n",
       "2    short , high-intensity cardio workout designed...\n",
       "3    quick challenging hiit workout designed boost ...\n",
       "4    short intense strength workout designed target...\n",
       "Name: desc_treated, dtype: object"
      ]
     },
     "execution_count": 6,
     "metadata": {},
     "output_type": "execute_result"
    }
   ],
   "source": [
    "df['desc_treated']=df.Description.apply(transform_text)\n",
    "df['desc_treated'].head()"
   ]
  },
  {
   "cell_type": "code",
   "execution_count": 7,
   "id": "669e5e97-facf-4258-ab4b-fba414c448f0",
   "metadata": {},
   "outputs": [],
   "source": [
    "from sklearn.feature_extraction.text import CountVectorizer, TfidfTransformer,TfidfVectorizer\n",
    "from sklearn.metrics.pairwise import cosine_similarity"
   ]
  },
  {
   "cell_type": "code",
   "execution_count": 8,
   "id": "466c2d50-fa96-4226-8fad-d1aaed0eb387",
   "metadata": {},
   "outputs": [],
   "source": [
    "vec=TfidfVectorizer()\n",
    "\n",
    "tfidfmatrix=vec.fit_transform(df['desc_treated'])"
   ]
  },
  {
   "cell_type": "code",
   "execution_count": 9,
   "id": "1d832fab-9535-481d-9753-a82f2ee9b15b",
   "metadata": {},
   "outputs": [],
   "source": [
    "#recommend exercises\n",
    "def recomm_exercise(text):\n",
    "    text_vec=vec.transform([text])\n",
    "    sim_scores=cosine_similarity(text_vec,tfidfmatrix)\n",
    "    # Get the top 10 most similar exercises\n",
    "    top_exercises_indices = sim_scores[0].argsort()[-5:][::-1]\n",
    "    top_exercises = df.iloc[top_exercises_indices]\n",
    "    \n",
    "    return top_exercises\n",
    "    "
   ]
  },
  {
   "cell_type": "code",
   "execution_count": 95,
   "id": "e94699f3-9dd3-4fce-b3ce-9e56ac3dd0ad",
   "metadata": {},
   "outputs": [
    {
     "data": {
      "text/html": [
       "<div>\n",
       "<style scoped>\n",
       "    .dataframe tbody tr th:only-of-type {\n",
       "        vertical-align: middle;\n",
       "    }\n",
       "\n",
       "    .dataframe tbody tr th {\n",
       "        vertical-align: top;\n",
       "    }\n",
       "\n",
       "    .dataframe thead th {\n",
       "        text-align: right;\n",
       "    }\n",
       "</style>\n",
       "<table border=\"1\" class=\"dataframe\">\n",
       "  <thead>\n",
       "    <tr style=\"text-align: right;\">\n",
       "      <th></th>\n",
       "      <th>ContentType</th>\n",
       "      <th>WorkoutType</th>\n",
       "      <th>Difficulty</th>\n",
       "      <th>Duration</th>\n",
       "      <th>Equipment</th>\n",
       "      <th>Name</th>\n",
       "      <th>Description</th>\n",
       "      <th>Routine</th>\n",
       "      <th>DurationMinutes</th>\n",
       "      <th>desc_treated</th>\n",
       "    </tr>\n",
       "  </thead>\n",
       "  <tbody>\n",
       "    <tr>\n",
       "      <th>32</th>\n",
       "      <td>Exercise</td>\n",
       "      <td>Cardio</td>\n",
       "      <td>Advanced</td>\n",
       "      <td>1-5 minutes</td>\n",
       "      <td>Gym equipment</td>\n",
       "      <td>Quick Cardio Blast</td>\n",
       "      <td>a short, high-intensity cardio workout designe...</td>\n",
       "      <td>[{'EXERCISE': 'Jumping Jacks', 'DURATION_SEC':...</td>\n",
       "      <td>5.0</td>\n",
       "      <td>short , high-intensity cardio workout designed...</td>\n",
       "    </tr>\n",
       "    <tr>\n",
       "      <th>29</th>\n",
       "      <td>Exercise</td>\n",
       "      <td>Cardio</td>\n",
       "      <td>Advanced</td>\n",
       "      <td>1-5 minutes</td>\n",
       "      <td>Some equipment (dumbells)</td>\n",
       "      <td>Quick Cardio Blast</td>\n",
       "      <td>a short, high-intensity cardio workout designe...</td>\n",
       "      <td>[{'EXERCISE': 'Jumping Jacks', 'DURATION_SEC':...</td>\n",
       "      <td>5.0</td>\n",
       "      <td>short , high-intensity cardio workout designed...</td>\n",
       "    </tr>\n",
       "    <tr>\n",
       "      <th>2</th>\n",
       "      <td>Exercise</td>\n",
       "      <td>Cardio</td>\n",
       "      <td>Beginner</td>\n",
       "      <td>1-5 minutes</td>\n",
       "      <td>No equipment (home or office)</td>\n",
       "      <td>Quick Cardio Blast</td>\n",
       "      <td>a short, high-intensity cardio workout designe...</td>\n",
       "      <td>[{'EXERCISE': 'Jumping Jacks', 'DURATION_SEC':...</td>\n",
       "      <td>5.0</td>\n",
       "      <td>short , high-intensity cardio workout designed...</td>\n",
       "    </tr>\n",
       "    <tr>\n",
       "      <th>5</th>\n",
       "      <td>Exercise</td>\n",
       "      <td>Cardio</td>\n",
       "      <td>Beginner</td>\n",
       "      <td>1-5 minutes</td>\n",
       "      <td>Some equipment (dumbells)</td>\n",
       "      <td>Quick Cardio Blast</td>\n",
       "      <td>a short, high-intensity cardio workout designe...</td>\n",
       "      <td>[{'EXERCISE': 'Jumping Jacks', 'DURATION_SEC':...</td>\n",
       "      <td>5.0</td>\n",
       "      <td>short , high-intensity cardio workout designed...</td>\n",
       "    </tr>\n",
       "    <tr>\n",
       "      <th>8</th>\n",
       "      <td>Exercise</td>\n",
       "      <td>Cardio</td>\n",
       "      <td>Beginner</td>\n",
       "      <td>1-5 minutes</td>\n",
       "      <td>Gym equipment</td>\n",
       "      <td>Quick Cardio Blast</td>\n",
       "      <td>a short, high-intensity cardio workout designe...</td>\n",
       "      <td>[{'EXERCISE': 'Jumping Jacks', 'DURATION_SEC':...</td>\n",
       "      <td>5.0</td>\n",
       "      <td>short , high-intensity cardio workout designed...</td>\n",
       "    </tr>\n",
       "  </tbody>\n",
       "</table>\n",
       "</div>"
      ],
      "text/plain": [
       "   ContentType WorkoutType Difficulty     Duration  \\\n",
       "32    Exercise      Cardio   Advanced  1-5 minutes   \n",
       "29    Exercise      Cardio   Advanced  1-5 minutes   \n",
       "2     Exercise      Cardio   Beginner  1-5 minutes   \n",
       "5     Exercise      Cardio   Beginner  1-5 minutes   \n",
       "8     Exercise      Cardio   Beginner  1-5 minutes   \n",
       "\n",
       "                        Equipment                Name  \\\n",
       "32                  Gym equipment  Quick Cardio Blast   \n",
       "29      Some equipment (dumbells)  Quick Cardio Blast   \n",
       "2   No equipment (home or office)  Quick Cardio Blast   \n",
       "5       Some equipment (dumbells)  Quick Cardio Blast   \n",
       "8                   Gym equipment  Quick Cardio Blast   \n",
       "\n",
       "                                          Description  \\\n",
       "32  a short, high-intensity cardio workout designe...   \n",
       "29  a short, high-intensity cardio workout designe...   \n",
       "2   a short, high-intensity cardio workout designe...   \n",
       "5   a short, high-intensity cardio workout designe...   \n",
       "8   a short, high-intensity cardio workout designe...   \n",
       "\n",
       "                                              Routine  DurationMinutes  \\\n",
       "32  [{'EXERCISE': 'Jumping Jacks', 'DURATION_SEC':...              5.0   \n",
       "29  [{'EXERCISE': 'Jumping Jacks', 'DURATION_SEC':...              5.0   \n",
       "2   [{'EXERCISE': 'Jumping Jacks', 'DURATION_SEC':...              5.0   \n",
       "5   [{'EXERCISE': 'Jumping Jacks', 'DURATION_SEC':...              5.0   \n",
       "8   [{'EXERCISE': 'Jumping Jacks', 'DURATION_SEC':...              5.0   \n",
       "\n",
       "                                         desc_treated  \n",
       "32  short , high-intensity cardio workout designed...  \n",
       "29  short , high-intensity cardio workout designed...  \n",
       "2   short , high-intensity cardio workout designed...  \n",
       "5   short , high-intensity cardio workout designed...  \n",
       "8   short , high-intensity cardio workout designed...  "
      ]
     },
     "execution_count": 95,
     "metadata": {},
     "output_type": "execute_result"
    }
   ],
   "source": [
    "recomms=recomm_exercise('cardio')\n",
    "recomms"
   ]
  },
  {
   "cell_type": "markdown",
   "id": "632565d8-08c3-463b-afa8-655df96614b2",
   "metadata": {},
   "source": [
    "### lda"
   ]
  },
  {
   "cell_type": "code",
   "execution_count": 10,
   "id": "f6f0c2ec-718a-4f61-b22c-32f0fc3820d3",
   "metadata": {},
   "outputs": [],
   "source": [
    "from sklearn.decomposition import LatentDirichletAllocation"
   ]
  },
  {
   "cell_type": "code",
   "execution_count": 12,
   "id": "bed9fea9-5969-4a01-b930-53ee04cc9290",
   "metadata": {},
   "outputs": [],
   "source": [
    "lda_model=LatentDirichletAllocation(n_components=10,learning_method='online',random_state=42,max_iter=1) \n",
    "lda_top=lda_model.fit_transform(tfidfmatrix)"
   ]
  },
  {
   "cell_type": "code",
   "execution_count": 13,
   "id": "bec3d0f5-065a-4cd5-840b-2738e8a07d20",
   "metadata": {},
   "outputs": [
    {
     "name": "stdout",
     "output_type": "stream",
     "text": [
      "(107, 10)\n",
      "[[0.8087902  0.0212453  0.02124518 ... 0.02124454 0.02124618 0.02124496]\n",
      " [0.02334756 0.02334663 0.02334777 ... 0.02334817 0.02334732 0.02334743]\n",
      " [0.02319667 0.02319734 0.02319635 ... 0.02319571 0.79123096 0.02319662]\n",
      " ...\n",
      " [0.0179528  0.01795241 0.01795209 ... 0.01795189 0.8384261  0.0179524 ]\n",
      " [0.02011992 0.02011929 0.02011902 ... 0.81892354 0.02011943 0.02012031]\n",
      " [0.01878014 0.01877991 0.01877885 ... 0.01877893 0.01877941 0.01877999]]\n"
     ]
    }
   ],
   "source": [
    "print(lda_top.shape)  # (no_of_doc,no_of_topics)\n",
    "print(lda_top)"
   ]
  },
  {
   "cell_type": "code",
   "execution_count": null,
   "id": "5d3c456e-6de7-4107-97d8-b2e5c89222db",
   "metadata": {},
   "outputs": [],
   "source": []
  }
 ],
 "metadata": {
  "kernelspec": {
   "display_name": "Python 3 (ipykernel)",
   "language": "python",
   "name": "python3"
  },
  "language_info": {
   "codemirror_mode": {
    "name": "ipython",
    "version": 3
   },
   "file_extension": ".py",
   "mimetype": "text/x-python",
   "name": "python",
   "nbconvert_exporter": "python",
   "pygments_lexer": "ipython3",
   "version": "3.9.13"
  }
 },
 "nbformat": 4,
 "nbformat_minor": 5
}
