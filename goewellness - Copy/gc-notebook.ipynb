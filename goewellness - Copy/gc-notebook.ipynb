{
 "cells": [
  {
   "cell_type": "code",
   "execution_count": 1,
   "id": "03e045ae-16f7-4b7e-8d5a-c51972d6ab74",
   "metadata": {},
   "outputs": [],
   "source": [
    "import pandas as pd\n",
    "import numpy as np\n",
    "import ast\n",
    "from nltk.corpus import stopwords\n",
    "from nltk.stem import WordNetLemmatizer\n",
    "from nltk.tokenize import word_tokenize\n",
    "import nltk\n",
    "#import "
   ]
  },
  {
   "cell_type": "code",
   "execution_count": 2,
   "id": "57af234a-a6a7-48c6-8e6b-55f13c8ca5ad",
   "metadata": {},
   "outputs": [
    {
     "name": "stderr",
     "output_type": "stream",
     "text": [
      "[nltk_data] Downloading package averaged_perceptron_tagger to\n",
      "[nltk_data]     C:\\Users\\User\\AppData\\Roaming\\nltk_data...\n",
      "[nltk_data]   Package averaged_perceptron_tagger is already up-to-\n",
      "[nltk_data]       date!\n"
     ]
    },
    {
     "data": {
      "text/plain": [
       "True"
      ]
     },
     "execution_count": 2,
     "metadata": {},
     "output_type": "execute_result"
    }
   ],
   "source": [
    "nltk.download('averaged_perceptron_tagger')"
   ]
  },
  {
   "cell_type": "code",
   "execution_count": 2,
   "id": "756a8fbb-c14f-4bb6-845d-f836ce1801d0",
   "metadata": {},
   "outputs": [],
   "source": [
    "df=pd.read_csv('../../downloads/GoE_Dataset (1).csv')#../../downloads/Clean_data_GK.csv"
   ]
  },
  {
   "cell_type": "code",
   "execution_count": 3,
   "id": "56099b73-9dbe-4b8b-8da5-99e750227297",
   "metadata": {},
   "outputs": [
    {
     "data": {
      "text/html": [
       "<div>\n",
       "<style scoped>\n",
       "    .dataframe tbody tr th:only-of-type {\n",
       "        vertical-align: middle;\n",
       "    }\n",
       "\n",
       "    .dataframe tbody tr th {\n",
       "        vertical-align: top;\n",
       "    }\n",
       "\n",
       "    .dataframe thead th {\n",
       "        text-align: right;\n",
       "    }\n",
       "</style>\n",
       "<table border=\"1\" class=\"dataframe\">\n",
       "  <thead>\n",
       "    <tr style=\"text-align: right;\">\n",
       "      <th></th>\n",
       "      <th>ID</th>\n",
       "      <th>Title</th>\n",
       "      <th>Pillar</th>\n",
       "      <th>Instructor</th>\n",
       "      <th>Categories</th>\n",
       "      <th>Series</th>\n",
       "      <th>Difficulty</th>\n",
       "      <th>Difficulty_Num</th>\n",
       "      <th>Duration</th>\n",
       "      <th>Duration_Num</th>\n",
       "      <th>...</th>\n",
       "      <th>Type</th>\n",
       "      <th>Audio</th>\n",
       "      <th>Recipe</th>\n",
       "      <th>Text</th>\n",
       "      <th>Video</th>\n",
       "      <th>Visualization</th>\n",
       "      <th>Active</th>\n",
       "      <th>Beauty</th>\n",
       "      <th>Nutrition</th>\n",
       "      <th>Rest</th>\n",
       "    </tr>\n",
       "  </thead>\n",
       "  <tbody>\n",
       "    <tr>\n",
       "      <th>0</th>\n",
       "      <td>438</td>\n",
       "      <td>A comprehensive guide to essential vitamins an...</td>\n",
       "      <td>Nutrition</td>\n",
       "      <td>NaN</td>\n",
       "      <td>Education</td>\n",
       "      <td>NaN</td>\n",
       "      <td>Intermediate</td>\n",
       "      <td>2</td>\n",
       "      <td>6-15 min</td>\n",
       "      <td>3</td>\n",
       "      <td>...</td>\n",
       "      <td>Text, Video</td>\n",
       "      <td>0</td>\n",
       "      <td>0</td>\n",
       "      <td>1</td>\n",
       "      <td>1</td>\n",
       "      <td>0</td>\n",
       "      <td>0</td>\n",
       "      <td>0</td>\n",
       "      <td>1</td>\n",
       "      <td>0</td>\n",
       "    </tr>\n",
       "    <tr>\n",
       "      <th>1</th>\n",
       "      <td>240</td>\n",
       "      <td>A comprehensive guide to nutritional balance</td>\n",
       "      <td>Nutrition</td>\n",
       "      <td>NaN</td>\n",
       "      <td>Education</td>\n",
       "      <td>NaN</td>\n",
       "      <td>Intermediate</td>\n",
       "      <td>2</td>\n",
       "      <td>6-15 min</td>\n",
       "      <td>3</td>\n",
       "      <td>...</td>\n",
       "      <td>Text, Video</td>\n",
       "      <td>0</td>\n",
       "      <td>0</td>\n",
       "      <td>1</td>\n",
       "      <td>1</td>\n",
       "      <td>0</td>\n",
       "      <td>0</td>\n",
       "      <td>0</td>\n",
       "      <td>1</td>\n",
       "      <td>0</td>\n",
       "    </tr>\n",
       "  </tbody>\n",
       "</table>\n",
       "<p>2 rows × 24 columns</p>\n",
       "</div>"
      ],
      "text/plain": [
       "    ID                                              Title     Pillar  \\\n",
       "0  438  A comprehensive guide to essential vitamins an...  Nutrition   \n",
       "1  240       A comprehensive guide to nutritional balance  Nutrition   \n",
       "\n",
       "  Instructor Categories Series    Difficulty  Difficulty_Num  Duration  \\\n",
       "0        NaN  Education    NaN  Intermediate               2  6-15 min   \n",
       "1        NaN  Education    NaN  Intermediate               2  6-15 min   \n",
       "\n",
       "   Duration_Num  ...         Type  Audio Recipe Text Video  Visualization  \\\n",
       "0             3  ...  Text, Video      0      0    1     1              0   \n",
       "1             3  ...  Text, Video      0      0    1     1              0   \n",
       "\n",
       "   Active  Beauty  Nutrition  Rest  \n",
       "0       0       0          1     0  \n",
       "1       0       0          1     0  \n",
       "\n",
       "[2 rows x 24 columns]"
      ]
     },
     "execution_count": 3,
     "metadata": {},
     "output_type": "execute_result"
    }
   ],
   "source": [
    "df.head(2)"
   ]
  },
  {
   "cell_type": "code",
   "execution_count": 4,
   "id": "43c0f6b1-5f36-4530-9734-c436e22fea48",
   "metadata": {},
   "outputs": [
    {
     "data": {
      "text/plain": [
       "(447, 24)"
      ]
     },
     "execution_count": 4,
     "metadata": {},
     "output_type": "execute_result"
    }
   ],
   "source": [
    "df.shape"
   ]
  },
  {
   "cell_type": "code",
   "execution_count": 5,
   "id": "c51d733f-c2ca-492a-a030-54f7c1c985b7",
   "metadata": {},
   "outputs": [
    {
     "data": {
      "text/plain": [
       "ID                        int64\n",
       "Title                    object\n",
       "Pillar                   object\n",
       "Instructor               object\n",
       "Categories               object\n",
       "Series                   object\n",
       "Difficulty               object\n",
       "Difficulty_Num            int64\n",
       "Duration                 object\n",
       "Duration_Num              int64\n",
       "Require_Movement         object\n",
       "Require_Movement_Num    float64\n",
       "Tags                     object\n",
       "Source                   object\n",
       "Type                     object\n",
       "Audio                     int64\n",
       "Recipe                    int64\n",
       "Text                      int64\n",
       "Video                     int64\n",
       "Visualization             int64\n",
       "Active                    int64\n",
       "Beauty                    int64\n",
       "Nutrition                 int64\n",
       "Rest                      int64\n",
       "dtype: object"
      ]
     },
     "execution_count": 5,
     "metadata": {},
     "output_type": "execute_result"
    }
   ],
   "source": [
    "df.dtypes"
   ]
  },
  {
   "cell_type": "code",
   "execution_count": 6,
   "id": "4a8fb8a6-1b43-44e5-bce6-3c2288dccf33",
   "metadata": {},
   "outputs": [
    {
     "data": {
      "text/plain": [
       "Require_Movement        259\n",
       "Require_Movement_Num    259\n",
       "Instructor              188\n",
       "Series                  188\n",
       "Categories               23\n",
       "Difficulty               20\n",
       "Duration                  3\n",
       "ID                        0\n",
       "Recipe                    0\n",
       "Nutrition                 0\n",
       "Beauty                    0\n",
       "Active                    0\n",
       "Visualization             0\n",
       "Video                     0\n",
       "Text                      0\n",
       "Tags                      0\n",
       "Audio                     0\n",
       "Type                      0\n",
       "Source                    0\n",
       "Title                     0\n",
       "Duration_Num              0\n",
       "Difficulty_Num            0\n",
       "Pillar                    0\n",
       "Rest                      0\n",
       "dtype: int64"
      ]
     },
     "execution_count": 6,
     "metadata": {},
     "output_type": "execute_result"
    }
   ],
   "source": [
    "df.isnull().sum().sort_values(ascending=False)"
   ]
  },
  {
   "cell_type": "code",
   "execution_count": 7,
   "id": "3036075f-1952-4c37-98c0-5cf5d5c44d1a",
   "metadata": {},
   "outputs": [
    {
     "name": "stdout",
     "output_type": "stream",
     "text": [
      "['Education' 'Fitness' 'Affirmation' 'Meditation and mindfulness'\n",
      " 'Nature sounds and ambient music' 'Recipes' 'Get to know the technique'\n",
      " nan 'Get started, Short and sweet, Fitness mojo'\n",
      " 'Get started, Just your body, Fitness mojo'\n",
      " 'Get started, Short and sweet' 'Just your body, Fitness mojo'\n",
      " 'On the floor, Get started' 'Breathing exercises and techniques'\n",
      " 'Short and sweet, Healthy desserts' 'Dance and aerobics' 'Check why'\n",
      " 'Goe academy' 'Take a breath, Mind and body'\n",
      " 'Take a breath, Mind and body, Relax' 'Take a breath, Relax'\n",
      " 'Take a breath, Relax, Mind and body'\n",
      " 'Short and sweet, Healthy desserts, Quick and easy' 'Stretching, Yoga'\n",
      " 'Just your body, On the floor, Sweet and short'\n",
      " 'Just your body, Push yourself' 'Meditation, Mind and body'\n",
      " 'Take a breath' 'Mind and body, My evening routine'\n",
      " 'Push yourself, Just your body, Get energised'\n",
      " 'Push yourself, Just your body' 'Get energised'\n",
      " 'Yoga and stretching for relaxation' 'Short and sweet, Healthy breakfast'\n",
      " 'Fitness mojo, Pulse raiser' 'Meditation, Relax, Mind and body'\n",
      " 'Healthy breakfast, Short and sweet, Quick and easy' 'Dinner'\n",
      " 'Relax, Mind and body' 'My evening routine, Relax, Check why'\n",
      " 'Relax, Mind and body, Take a breath' 'Healthy dessert' 'Mind and body'\n",
      " 'Pulse raiser' 'Get started' 'Mind and body, My morning routine']\n",
      "['Text, Video' 'Video' 'Audio' 'Audio, Text' 'Audio, Visualization' 'Text'\n",
      " 'Recepie, Video']\n",
      "['6-15 min' '30+ min' '1-5 min' '<1 min (shorts)' '15 - 30 min' nan]\n",
      "['Nutrition' 'Active' 'Activity, Rest' 'Beauty' 'Beauty, Rest' 'Rest'\n",
      " 'Beauty, Nutrition' 'Beauty, Activity'\n",
      " '\"nutrition basics: understanding macros\"' 'Rest, Activity'\n",
      " 'Rest, Beauty' 'Beauty, Active']\n"
     ]
    }
   ],
   "source": [
    "print(df.Categories.unique())\n",
    "print(df.Type.unique())\n",
    "print(df.Duration.unique())\n",
    "print(df.Pillar.unique())"
   ]
  },
  {
   "cell_type": "code",
   "execution_count": 8,
   "id": "35cdaef8-6256-4a6b-abdc-c5e6fbf15c6e",
   "metadata": {},
   "outputs": [
    {
     "data": {
      "text/plain": [
       "'Energizing zumba dance workout'"
      ]
     },
     "execution_count": 8,
     "metadata": {},
     "output_type": "execute_result"
    }
   ],
   "source": [
    "df.iloc[35].Title"
   ]
  },
  {
   "cell_type": "markdown",
   "id": "aef1029c-d202-429f-942c-9cff00e1e787",
   "metadata": {},
   "source": [
    "### I intend to use -\n",
    "1) first use cosine similiarity on title,type,category, and pillar for recommendation\n",
    "2)  lda "
   ]
  },
  {
   "cell_type": "code",
   "execution_count": 21,
   "id": "f145ab31-cbe5-4dd0-aa98-9718bd420803",
   "metadata": {},
   "outputs": [],
   "source": [
    "#tree.draw()\n",
    "df.fillna('',inplace=True)\n",
    "#df.isnull().sum()\n"
   ]
  },
  {
   "cell_type": "code",
   "execution_count": 10,
   "id": "a0d795ae-4865-4234-8367-59d80d3cdd48",
   "metadata": {},
   "outputs": [],
   "source": [
    "def transform_text(text):\n",
    "    \n",
    "    sw=stopwords.words('english')\n",
    "    lem= WordNetLemmatizer()\n",
    "    #tokenize\n",
    "    text=str(text).lower()\n",
    "    desc_tok=word_tokenize(text)\n",
    "    # remove stop words\n",
    "    filtered_desc=[t for t in desc_tok if t not in sw and not t=='Unknown' ] # unknown for type\n",
    "    \n",
    "    #lemmatize\n",
    "    lem_words=[lem.lemmatize(w) for w in filtered_desc]\n",
    "    return ' '.join(lem_words)\n"
   ]
  },
  {
   "cell_type": "code",
   "execution_count": 24,
   "id": "62581723-105d-4eea-b6c6-e376667b9334",
   "metadata": {},
   "outputs": [
    {
     "data": {
      "text/plain": [
       "'affirmation building confidence beauty audio affirmation beginner 1-5 min growth , personal development , self-esteem , motivation , building , empowerment , confidence , positive'"
      ]
     },
     "execution_count": 24,
     "metadata": {},
     "output_type": "execute_result"
    }
   ],
   "source": [
    "df['text']=df['Title'] +' '+ df['Pillar'] +' '+df['Type'] +' '+ df['Categories']+' '+df['Difficulty']+ ' '+ df['Duration']+ ' '+ df['Tags']\n",
    "df['text_tk']=df['text'].apply(transform_text)\n",
    "df['text_tk'].iloc[9]\n"
   ]
  },
  {
   "cell_type": "code",
   "execution_count": 12,
   "id": "669e5e97-facf-4258-ab4b-fba414c448f0",
   "metadata": {},
   "outputs": [],
   "source": [
    "from sklearn.feature_extraction.text import CountVectorizer, TfidfTransformer,TfidfVectorizer\n",
    "from sklearn.metrics.pairwise import cosine_similarity"
   ]
  },
  {
   "cell_type": "code",
   "execution_count": 25,
   "id": "466c2d50-fa96-4226-8fad-d1aaed0eb387",
   "metadata": {},
   "outputs": [],
   "source": [
    "vec=TfidfVectorizer()\n",
    "\n",
    "#tfidfmatrix=vec.fit_transform(df['title_treated'])\n",
    "tfidfmatrix=vec.fit_transform(df['text_tk'])"
   ]
  },
  {
   "cell_type": "code",
   "execution_count": 14,
   "id": "1d832fab-9535-481d-9753-a82f2ee9b15b",
   "metadata": {},
   "outputs": [],
   "source": [
    "#recommend exercises\n",
    "def recomm_exercise(text):\n",
    "    text_vec=vec.transform([text])\n",
    "    sim_scores=cosine_similarity(text_vec,tfidfmatrix)\n",
    "    # Get the top 10 most similar exercises\n",
    "    top_exercises_indices = sim_scores[0].argsort()[-5:][::-1]\n",
    "    top_exercises = df.iloc[top_exercises_indices]\n",
    "    \n",
    "    return top_exercises.Title\n",
    "    "
   ]
  },
  {
   "cell_type": "code",
   "execution_count": 27,
   "id": "e94699f3-9dd3-4fce-b3ce-9e56ac3dd0ad",
   "metadata": {},
   "outputs": [
    {
     "data": {
      "text/plain": [
       "160                    Understanding macronutrients\n",
       "161                    Understanding micronutrients\n",
       "1      A comprehensive guide to nutritional balance\n",
       "75          Mastering the art of balanced nutrition\n",
       "2       A comprehensive guide to nutritional basics\n",
       "Name: Title, dtype: object"
      ]
     },
     "execution_count": 27,
     "metadata": {},
     "output_type": "execute_result"
    }
   ],
   "source": [
    "recomms=recomm_exercise('nutrition')\n",
    "recomms"
   ]
  },
  {
   "cell_type": "code",
   "execution_count": null,
   "id": "d63fb489-0511-4d3d-88af-52efea57c29e",
   "metadata": {},
   "outputs": [],
   "source": []
  },
  {
   "cell_type": "markdown",
   "id": "f66853b7-8ba5-4428-87b4-01337ff9b680",
   "metadata": {},
   "source": [
    "## To be continued"
   ]
  }
 ],
 "metadata": {
  "kernelspec": {
   "display_name": "Python 3 (ipykernel)",
   "language": "python",
   "name": "python3"
  },
  "language_info": {
   "codemirror_mode": {
    "name": "ipython",
    "version": 3
   },
   "file_extension": ".py",
   "mimetype": "text/x-python",
   "name": "python",
   "nbconvert_exporter": "python",
   "pygments_lexer": "ipython3",
   "version": "3.9.13"
  }
 },
 "nbformat": 4,
 "nbformat_minor": 5
}
